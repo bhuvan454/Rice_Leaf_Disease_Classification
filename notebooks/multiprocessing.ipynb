{
 "cells": [
  {
   "cell_type": "code",
   "execution_count": 21,
   "metadata": {},
   "outputs": [
    {
     "name": "stdout",
     "output_type": "stream",
     "text": [
      "1.13.1\n",
      "Number of available CPUs: 16\n",
      "Number of available GPUs: 1\n"
     ]
    }
   ],
   "source": [
    "%load_ext autoreload\n",
    "%autoreload 2\n",
    "\n",
    "\n",
    "import os\n",
    "import sys\n",
    "import time\n",
    "\n",
    "import numpy as np\n",
    "from tqdm import tqdm\n",
    "\n",
    "import multiprocessing as mp\n",
    "\n",
    "import torch\n",
    "import torch.nn as nn\n",
    "import torch.nn.functional as F\n",
    "import torch.optim as optim\n",
    "from PIL import Image\n",
    "from torchvision import transforms as tf\n",
    "\n",
    "from torch.utils.data import Dataset\n",
    "\n",
    "\n",
    "sys.path.append(os.path.join(os.getcwd(), '../src/'))\n",
    "\n",
    "# print torch version\n",
    "print(torch.__version__)\n",
    "\n",
    "print('Number of available CPUs:', mp.cpu_count())\n",
    "if torch.cuda.is_available():\n",
    "    print('Number of available GPUs:', torch.cuda.device_count())\n"
   ]
  },
  {
   "cell_type": "code",
   "execution_count": 36,
   "metadata": {},
   "outputs": [],
   "source": [
    "# ## Data\n",
    "\n",
    "from data.CustomDataset import CustomDataset\n",
    "from data.CustomDataloader import CustomDataLoader\n",
    "\n",
    "DATA_DIR = '../data/raw/'\n",
    "\n",
    "# define transforms\n",
    "transform = tf.Compose([\n",
    "    tf.Resize((224, 224)),\n",
    "    tf.ToTensor() ])\n",
    "\n",
    "dataset = CustomDataset(DATA_DIR, transform=transform)\n"
   ]
  },
  {
   "cell_type": "code",
   "execution_count": 38,
   "metadata": {},
   "outputs": [],
   "source": [
    "dataloader = CustomDataLoader(dataset, batch_size=32, shuffle=True, num_workers=4)"
   ]
  },
  {
   "cell_type": "code",
   "execution_count": 39,
   "metadata": {},
   "outputs": [
    {
     "name": "stdout",
     "output_type": "stream",
     "text": [
      "torch.Size([32, 3, 224, 224])\n",
      "tensor([1, 0, 1, 1, 2, 1, 2, 0, 2, 0, 2, 1, 0, 0, 1, 2, 0, 0, 0, 2, 1, 0, 0, 2,\n",
      "        2, 1, 2, 0, 2, 0, 0, 2])\n"
     ]
    }
   ],
   "source": []
  },
  {
   "cell_type": "code",
   "execution_count": null,
   "metadata": {},
   "outputs": [],
   "source": []
  }
 ],
 "metadata": {
  "kernelspec": {
   "display_name": "drd",
   "language": "python",
   "name": "python3"
  },
  "language_info": {
   "codemirror_mode": {
    "name": "ipython",
    "version": 3
   },
   "file_extension": ".py",
   "mimetype": "text/x-python",
   "name": "python",
   "nbconvert_exporter": "python",
   "pygments_lexer": "ipython3",
   "version": "3.10.8"
  },
  "orig_nbformat": 4
 },
 "nbformat": 4,
 "nbformat_minor": 2
}
